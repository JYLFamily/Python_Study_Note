{
 "cells": [
  {
   "cell_type": "heading",
   "metadata": {
    "collapsed": true
   },
   "level": 1,
   "source": [
    "1.什么是 Numpy 和 Numpy array\n",
    "2.创建 Numpy 数组\n",
    "3.基本数据类型\n",
    "4.索引和切片\n",
    "5.拷贝和视图\n",
    "6.高级索引技巧"
   ]
  },
  {
   "cell_type": "code",
   "execution_count": 4,
   "metadata": {},
   "outputs": [],
   "source": [
    "############## 什么是 Numpy 和 Numpy array ##############  \n",
    "import numpy as np"
   ]
  },
  {
   "cell_type": "code",
   "execution_count": 9,
   "metadata": {},
   "outputs": [
    {
     "data": {
      "text/plain": [
       "array([0, 1, 2, 3])"
      ]
     },
     "execution_count": 9,
     "metadata": {},
     "output_type": "execute_result"
    }
   ],
   "source": [
    "# 创建数组示例\n",
    "a = np.array([0, 1, 2, 3])\n",
    "a"
   ]
  },
  {
   "cell_type": "code",
   "execution_count": 4,
   "metadata": {},
   "outputs": [
    {
     "name": "stdout",
     "output_type": "stream",
     "text": [
      "1000 loops, best of 3: 325 µs per loop\n--------------------\n"
     ]
    },
    {
     "name": "stdout",
     "output_type": "stream",
     "text": [
      "The slowest run took 9.00 times longer than the fastest. This could mean that an intermediate result is being cached.\n1000000 loops, best of 3: 1.89 µs per loop\n"
     ]
    }
   ],
   "source": [
    "# Numpy array 相较原始 list 速度更快  \n",
    "L = range(1000)\n",
    "%timeit [i**2 for i in L]\n",
    "print(\"------------------------------------\")\n",
    "a = np.arange(1000)\n",
    "%timeit a**2"
   ]
  },
  {
   "cell_type": "code",
   "execution_count": 7,
   "metadata": {
    "collapsed": true
   },
   "outputs": [
    {
     "name": "stdout",
     "output_type": "stream",
     "text": [
      "Search results for 'create array'\n---------------------------------\nnumpy.array\n    Create an array.\nnumpy.memmap\n    Create a memory-map to an array stored in a *binary* file on disk.\nnumpy.diagflat\n    Create a two-dimensional array with the flattened input as a diagonal.\nnumpy.fromiter\n    Create a new 1-dimensional array from an iterable object.\nnumpy.partition\n    Return a partitioned copy of an array.\nnumpy.ctypeslib.as_array\n    Create a numpy array from a ctypes array or a ctypes POINTER.\nnumpy.ma.diagflat\n    Create a two-dimensional array with the flattened input as a diagonal.\nnumpy.ma.make_mask\n    Create a boolean mask from an array.\nnumpy.ctypeslib.as_ctypes\n    Create and return a ctypes object from a numpy array.  Actually\nnumpy.ma.mrecords.fromarrays\n    Creates a mrecarray from a (flat) list of masked arrays.\nnumpy.ma.mvoid.__new__\n    Create a new masked array from scratch.\nnumpy.lib.format.open_memmap\n    Open a .npy file as a memory-mapped array.\nnumpy.ma.MaskedArray.__new__\n    Create a new masked array from scratch.\nnumpy.lib.arrayterator.Arrayterator\n    Buffered iterator for big arrays.\nnumpy.ma.mrecords.fromtextfile\n    Creates a mrecarray from data stored in the file `filename`.\nnumpy.asarray\n    Convert the input to an array.\nnumpy.ndarray\n    ndarray(shape, dtype=float, buffer=None, offset=0,\nnumpy.recarray\n    Construct an ndarray that allows field access using attributes.\nnumpy.chararray\n    chararray(shape, itemsize=1, unicode=False, buffer=None, offset=0,\nnumpy.pad\n    Pads an array.\nnumpy.asanyarray\n    Convert the input to an ndarray, but pass ndarray subclasses through.\nnumpy.copy\n    Return an array copy of the given object.\nnumpy.diag\n    Extract a diagonal or construct a diagonal array.\nnumpy.load\n    Load arrays or pickled objects from ``.npy``, ``.npz`` or pickled files.\nnumpy.sort\n    Return a sorted copy of an array.\nnumpy.array_equiv\n    Returns True if input arrays are shape consistent and all elements equal.\nnumpy.dtype\n    Create a data type object.\nnumpy.choose\n    Construct an array from an index array and a set of arrays to choose from.\nnumpy.nditer\n    Efficient multi-dimensional iterator object to iterate over arrays.\nnumpy.swapaxes\n    Interchange two axes of an array.\nnumpy.full_like\n    Return a full array with the same shape and type as a given array.\nnumpy.ones_like\n    Return an array of ones with the same shape and type as a given array.\nnumpy.empty_like\n    Return a new array with the same shape and type as a given array.\nnumpy.ma.mrecords.MaskedRecords.__new__\n    Create a new masked array from scratch.\nnumpy.zeros_like\n    Return an array of zeros with the same shape and type as a given array.\nnumpy.asarray_chkfinite\n    Convert the input to an array, checking for NaNs or Infs.\nnumpy.diag_indices\n    Return the indices to access the main diagonal of an array.\nnumpy.chararray.tolist\n    a.tolist()\nnumpy.ma.choose\n    Use an index array to construct a new array from a set of choices.\nnumpy.savez_compressed\n    Save several arrays into a single file in compressed ``.npz`` format.\nnumpy.matlib.rand\n    Return a matrix of random values with given shape.\nnumpy.ma.empty_like\n    Return a new array with the same shape and type as a given array.\nnumpy.ma.make_mask_none\n    Return a boolean mask of the given shape, filled with False.\nnumpy.ma.mrecords.fromrecords\n    Creates a MaskedRecords from a list of records.\nnumpy.around\n    Evenly round to the given number of decimals.\nnumpy.source\n    Print or write to a file the source code for a NumPy object.\nnumpy.diagonal\n    Return specified diagonals.\nnumpy.einsum_path\n    Evaluates the lowest cost contraction order for an einsum expression by\nnumpy.histogram2d\n    Compute the bi-dimensional histogram of two data samples.\nnumpy.fft.ifft\n    Compute the one-dimensional inverse discrete Fourier Transform.\nnumpy.fft.ifftn\n    Compute the N-dimensional inverse discrete Fourier Transform.\nnumpy.busdaycalendar\n    A business day calendar object that efficiently stores information"
     ]
    }
   ],
   "source": [
    "# 参考文档与帮助\n",
    "# 查看 np.array 函数文档\n",
    "np.array? \n",
    "# 查看如何 create array\n",
    "np.lookfor('create array')\n",
    "# 查看 Numpy 中以 con 开头的函数\n",
    "np.con*?"
   ]
  },
  {
   "cell_type": "code",
   "execution_count": 10,
   "metadata": {},
   "outputs": [],
   "source": [
    "############## 创建 Numpy 数组 ##############  \n",
    "import numpy as np"
   ]
  },
  {
   "cell_type": "code",
   "execution_count": 16,
   "metadata": {
    "collapsed": true
   },
   "outputs": [
    {
     "name": "stdout",
     "output_type": "stream",
     "text": [
      "1\n(4,)\n4\n------------------------------------\n2\n(2, 3)\n2\n------------------------------------\n3\n(2, 2, 1)\n[[[1]\n  [2]]\n\n [[3]\n  [4]]]\n"
     ]
    }
   ],
   "source": [
    "# 使用构造函数创建 1 维数组 , np.array 函数中传入 Python List\n",
    "a = np.array([0, 1, 2, 3])\n",
    "print(a.ndim)  # 数组维度\n",
    "print(a.shape)  # 数组形状\n",
    "print(len(a))  # 返回数组第一维度的元素个数\n",
    "print(\"------------------------------------\")\n",
    "\n",
    "# 使用构造函数创建 2 维数组 , np.array 函数中传入 Python List 的 List\n",
    "a = np.array([[1, 2, 3],[4, 5, 6]])\n",
    "print(a.ndim)\n",
    "print(a.shape)\n",
    "print(len(a))\n",
    "print(\"------------------------------------\")\n",
    "\n",
    "# 使用构造函数创建 3 维数组 , 这里仅仅是说明如何看 List 的 List 确定是几维数组\n",
    "a = np.array([[[1], [2]], [[3], [4]]])\n",
    "print(a.ndim)\n",
    "print(a.shape)\n",
    "print(a)"
   ]
  },
  {
   "cell_type": "code",
   "execution_count": 3,
   "metadata": {
    "collapsed": true
   },
   "outputs": [
    {
     "name": "stdout",
     "output_type": "stream",
     "text": [
      "[0 1 2 3 4 5 6 7 8 9]\n[1 3 5 7]\n------------------------------------\n[ 0.    0.25  0.5   0.75  1.  ]\n[ 0.   0.2  0.4  0.6  0.8]\n"
     ]
    }
   ],
   "source": [
    "# 使用特殊函数创建 np.arange , 生成 int\n",
    "a = np.arange(10) # 创建 1 维 10 个元素的数组从 0 ~ 9\n",
    "print(a)\n",
    "a = np.arange(1, 9, 2)  # 创建 1 维数组 , 开始元素是 start = 1 end = 9 (exclusive) step = 2\n",
    "print(a)\n",
    "print(\"------------------------------------\")\n",
    "# 使用特殊函数创建 np.linespace , 生成 float\n",
    "a = np.linspace(0, 1, 5)  # 0 ~ 1 区间均匀产生 7 个数 1 , 1 包括在内\n",
    "print(a)\n",
    "a = np.linspace(0, 1, 5, endpoint=False)  # 0 ~ 1 区间均匀产生 6 个数 , 1 不包括在内\n",
    "print(a)"
   ]
  },
  {
   "cell_type": "code",
   "execution_count": 5,
   "metadata": {
    "collapsed": false
   },
   "outputs": [
    {
     "name": "stdout",
     "output_type": "stream",
     "text": [
      "[[ 1.  1.  1.]\n [ 1.  1.  1.]\n [ 1.  1.  1.]]\n------------------------------------\n[[ 0.  0.  0.]\n [ 0.  0.  0.]\n [ 0.  0.  0.]]\n------------------------------------\n[[ 1.  0.  0.]\n [ 0.  1.  0.]\n [ 0.  0.  1.]]\n------------------------------------\n[[0 0 0 0]\n [0 1 0 0]\n [0 0 2 0]\n [0 0 0 3]]\n"
     ]
    }
   ],
   "source": [
    "# 使用 Matlab 风格函数创建 np.ones\n",
    "a = np.ones((3, 3))  # 生成 3×3 全 1 二维数组 , 默认 float 类型 , 可以修改 dtype 参数设置\n",
    "print(a)\n",
    "print(\"------------------------------------\")\n",
    "a = np.zeros((3, 3))  # 生成 3×3 全 0 二维数组 , 默认 float 类型 , 可以修改 dtype 参数设置\n",
    "print(a)\n",
    "print(\"------------------------------------\")\n",
    "a = np.eye(3)  # 生成 3×3 单位阵（二维数组） , 默认 float 类型 , 可以修改 dtype 参数设置\n",
    "print(a)\n",
    "print(\"------------------------------------\")\n",
    "a = np.diag(np.arange(4))  # 生成主对角线元素为 0 , 1 , 2 其余元素为 0 的二维数组\n",
    "print(a)"
   ]
  },
  {
   "cell_type": "code",
   "execution_count": 29,
   "metadata": {},
   "outputs": [
    {
     "name": "stdout",
     "output_type": "stream",
     "text": [
      "[ 0.13665982  0.9942047   0.68353681  0.15100747]\n------------------------------------\n[ 0.02524517 -1.50990928  0.34709143 -0.5675784 ]\n------------------------------------\n"
     ]
    }
   ],
   "source": [
    "# 使用随机数函数创建 \n",
    "a = np.random.rand(4) # 生成 4 个 [0, 1] 均匀分布随机数组成的一维数组\n",
    "print(a)\n",
    "print(\"------------------------------------\")\n",
    "a = np.random.randn(4)  # 生成 4 个高斯分布随机数组成的一维数组\n",
    "print(a)\n",
    "print(\"------------------------------------\")\n",
    "a = np.random.seed(100)  # 随机种子"
   ]
  },
  {
   "cell_type": "code",
   "execution_count": null,
   "metadata": {},
   "outputs": [],
   "source": [
    ""
   ]
  }
 ],
 "metadata": {
  "kernelspec": {
   "display_name": "Python 2",
   "language": "python",
   "name": "python2"
  },
  "language_info": {
   "codemirror_mode": {
    "name": "ipython",
    "version": 2
   },
   "file_extension": ".py",
   "mimetype": "text/x-python",
   "name": "python",
   "nbconvert_exporter": "python",
   "pygments_lexer": "ipython2",
   "version": "2.7.6"
  }
 },
 "nbformat": 4,
 "nbformat_minor": 0
}
