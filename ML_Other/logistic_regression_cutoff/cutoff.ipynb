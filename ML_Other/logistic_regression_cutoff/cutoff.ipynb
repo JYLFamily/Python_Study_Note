{
 "cells": [
  {
   "cell_type": "code",
   "execution_count": null,
   "metadata": {
    "collapsed": true
   },
   "outputs": [],
   "source": [
    "import pandas as pd\n",
    "import statsmodels.api as sm\n",
    "import numpy as np\n",
    "from sklearn.metrics import roc_curve\n"
   ]
  },
  {
   "cell_type": "markdown",
   "metadata": {
    "collapsed": true
   },
   "source": [
    "## 数据预处理"
   ]
  },
  {
   "cell_type": "code",
   "execution_count": null,
   "metadata": {},
   "outputs": [],
   "source": [
    "df = pd.DataFrame(pd.read_csv(\"Other/logistic_regression_cutoff/binary.csv\"))\n",
    "df = df.rename(columns={'rank':'prestige'})\n",
    "df = pd.concat([df.loc[:, ['admit', 'gre', 'gpa']], pd.get_dummies(df['prestige'], prefix='prestige')], axis=1)\n",
    "df = df.loc[:, ['admit', 'gre', 'gpa', 'prestige_1', 'prestige_2', 'prestige_3']]\n"
   ]
  },
  {
   "cell_type": "markdown",
   "metadata": {},
   "source": [
    "## 模型的训练"
   ]
  },
  {
   "cell_type": "code",
   "execution_count": null,
   "metadata": {},
   "outputs": [],
   "source": [
    "# manually add the intercept\n",
    "df['intercept'] = 1.0\n",
    "# fit the model\n",
    "result = sm.Logit(df.loc[:, 'admit'], df.loc[:, ['gre', 'gpa', 'prestige_1', 'prestige_2', 'prestige_3']]).fit()\n",
    "# Add prediction to dataframe\n",
    "df['pred'] = result.predict(df.loc[:, ['gre', 'gpa', 'prestige_1', 'prestige_2', 'prestige_3']])\n"
   ]
  },
  {
   "cell_type": "markdown",
   "metadata": {},
   "source": [
    "## cutoff 函数定义"
   ]
  },
  {
   "cell_type": "code",
   "execution_count": null,
   "metadata": {},
   "outputs": [],
   "source": [
    "def Find_Optimal_Cutoff(data_frame, actual_column_name, predict_column_name):\n",
    "    \"\"\"\n",
    "    :param data_frame: 只要包含真实响应与预测响应即可\n",
    "    :param actual_column_name: 真实响应的 column_name\n",
    "    :param predict_column_name: 预测响应的 column_name（逻辑回归模型输出样本属于 Positive 类的概率）\n",
    "    :return: thresholds 最佳的 cutoff\n",
    "    \"\"\"\n",
    "    actual = data_frame.loc[:, actual_column_name]\n",
    "    predict = data_frame.loc[:, predict_column_name]\n",
    "    \n",
    "    fpr, tpr, thresholds = roc_curve(actual, predict)\n",
    "    index = np.arange(len(tpr))\n",
    "    roc = pd.DataFrame({'fpr': pd.Series(fpr, index=index),\n",
    "                        'tpr': pd.Series(tpr, index = index), \n",
    "                        '1-fpr': pd.Series(1-fpr, index = index), \n",
    "                        'tpr-(1-fpr)': pd.Series(tpr-(1-fpr), index = index), \n",
    "                        'thresholds': pd.Series(thresholds, index = index)})\n",
    "    \n",
    "    return roc.iloc[(roc.loc[:, 'tpr-(1-fpr)']-0).abs().argsort()[0], :]\n"
   ]
  },
  {
   "cell_type": "markdown",
   "metadata": {},
   "source": [
    "## cutoff 函数输出"
   ]
  },
  {
   "cell_type": "code",
   "execution_count": 17,
   "metadata": {},
   "outputs": [],
   "source": [
    "Find_Optimal_Cutoff(data_frame=df, actual_column_name=\"admit\", predict_column_name=\"pred\")"
   ]
  },
  {
   "cell_type": "code",
   "execution_count": 18,
   "metadata": {},
   "outputs": [],
   "source": []
  },
  {
   "cell_type": "code",
   "execution_count": null,
   "metadata": {},
   "outputs": [],
   "source": []
  }
 ],
 "metadata": {
  "kernelspec": {
   "display_name": "Python 2",
   "language": "python",
   "name": "python2"
  },
  "language_info": {
   "codemirror_mode": {
    "name": "ipython",
    "version": 2
   },
   "file_extension": ".py",
   "mimetype": "text/x-python",
   "name": "python",
   "nbconvert_exporter": "python",
   "pygments_lexer": "ipython2",
   "version": "2.7.6"
  }
 },
 "nbformat": 4,
 "nbformat_minor": 0
}
