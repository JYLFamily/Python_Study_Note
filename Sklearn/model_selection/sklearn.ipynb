{
 "cells": [
  {
   "cell_type": "markdown",
   "metadata": {
    "collapsed": false
   },
   "source": [
    "## 数据集划分方法"
   ]
  },
  {
   "cell_type": "markdown",
   "metadata": {
    "collapsed": false
   },
   "source": [
    "### k 折交叉验证及其变体"
   ]
  },
  {
   "cell_type": "code",
   "execution_count": 4,
   "metadata": {
    "collapsed": false
   },
   "outputs": [
    {
     "name": "stdout",
     "output_type": "stream",
     "text": [
      "train_index:  [2 3 4 5] test_index:  [0 1]\ntrain_index:  [0 1 4 5] test_index:  [2 3]\ntrain_index:  [0 1 2 3] test_index:  [4 5]\n"
     ]
    }
   ],
   "source": [
    "import  numpy as np\n",
    "from sklearn.model_selection import KFold\n",
    "\n",
    "data = np.array([[1, 2], [3, 4], [5, 6], [7, 8], [9, 10], [11, 12]])\n",
    "target = np.array([1, 1, 1, 2, 2, 2])\n",
    "\n",
    "kf = KFold(n_splits=3)\n",
    "\n",
    "for train_index, test_index in kf.split(data):\n",
    "    print(\"train_index: \", train_index, \"test_index: \", test_index)"
   ]
  },
  {
   "cell_type": "code",
   "execution_count": 5,
   "metadata": {},
   "outputs": [
    {
     "name": "stdout",
     "output_type": "stream",
     "text": [
      "train_index:  [1 2 4 5] test_index:  [0 3]\ntrain_index:  [0 2 3 5] test_index:  [1 4]\ntrain_index:  [0 1 3 4] test_index:  [2 5]\n"
     ]
    }
   ],
   "source": [
    "import numpy as np\n",
    "from sklearn.model_selection import StratifiedKFold\n",
    "\n",
    "data = np.array([[1, 2], [3, 4], [5, 6], [7, 8], [9, 10], [11, 12]])\n",
    "target = np.array([1, 1, 1, 2, 2, 2])\n",
    "# groups = np.array([1, 1, 1, 2, 2, 2])\n",
    "\n",
    "sfk = StratifiedKFold(n_splits=3)\n",
    "\n",
    "for train_index, test_index in sfk.split(data, target):\n",
    "    print(\"train_index: \", train_index, \"test_index: \", test_index)"
   ]
  },
  {
   "cell_type": "code",
   "execution_count": 6,
   "metadata": {
    "collapsed": false
   },
   "outputs": [
    {
     "name": "stdout",
     "output_type": "stream",
     "text": [
      "   0   1\n0  1   2\n1  3   4\n2  7   8\n3  9  10\n   0\n0  1\n1  2\n2  4\n3  5\n    0   1\n0   5   6\n1  11  12\n   0\n0  3\n1  6\n------------------------------------------------\n    0   1\n0   1   2\n1   5   6\n2   7   8\n3  11  12\n   0\n0  1\n1  3\n2  4\n3  6\n   0   1\n0  3   4\n1  9  10\n   0\n0  2\n1  5\n------------------------------------------------\n    0   1\n0   3   4\n1   5   6\n2   9  10\n3  11  12\n   0\n0  2\n1  3\n2  5\n3  6\n   0  1\n0  1  2\n1  7  8\n   0\n0  1\n1  4\n------------------------------------------------\n"
     ]
    }
   ],
   "source": [
    "import numpy as np\n",
    "import pandas as pd\n",
    "from sklearn.model_selection import GroupKFold\n",
    "\n",
    "data = np.array([[1, 2], [3, 4], [5, 6], [7, 8], [9, 10], [11, 12]])\n",
    "target = np.array([1, 2, 3, 4, 5, 6])\n",
    "groups = np.array([0, 1, 2, 4, 5, 6])\n",
    "\n",
    "group_kfold = GroupKFold(n_splits=3)\n",
    "group_kfold\n",
    "\n",
    "for train_index, test_index in group_kfold.split(data, target, groups):\n",
    "    print(pd.DataFrame(data[train_index, :]))\n",
    "    print(pd.DataFrame(target[train_index]))\n",
    "    print(pd.DataFrame(data[test_index, :]))\n",
    "    print(pd.DataFrame(target[test_index]))\n",
    "    print(\"------------------------------------------------\")\n"
   ]
  },
  {
   "cell_type": "markdown",
   "metadata": {
    "collapsed": true
   },
   "source": [
    "### 留1/P法及其变体"
   ]
  },
  {
   "cell_type": "code",
   "execution_count": 7,
   "metadata": {},
   "outputs": [
    {
     "name": "stdout",
     "output_type": "stream",
     "text": [
      "train_index:  [1 2 3 4 5] test_index:  [0]\ntrain_index:  [0 2 3 4 5] test_index:  [1]\ntrain_index:  [0 1 3 4 5] test_index:  [2]\ntrain_index:  [0 1 2 4 5] test_index:  [3]\ntrain_index:  [0 1 2 3 5] test_index:  [4]\ntrain_index:  [0 1 2 3 4] test_index:  [5]\n"
     ]
    }
   ],
   "source": [
    "import numpy as np\n",
    "from sklearn.model_selection import LeaveOneOut\n",
    "\n",
    "data = np.array([[1, 2], [3, 4], [5, 6], [7, 8], [9, 10], [11, 12]])\n",
    "target = np.array([1, 2, 3, 4, 5, 6])\n",
    "\n",
    "loo = LeaveOneOut()\n",
    "loo.get_n_splits(data)\n",
    "\n",
    "for train_index, test_index in loo.split(data):\n",
    "    print(\"train_index: \", train_index, \"test_index: \", test_index)\n"
   ]
  },
  {
   "cell_type": "markdown",
   "metadata": {},
   "source": [
    "### 随机划分及其变体"
   ]
  },
  {
   "cell_type": "code",
   "execution_count": 8,
   "metadata": {},
   "outputs": [
    {
     "name": "stdout",
     "output_type": "stream",
     "text": [
      "train_index:  [0 1 4 3] test_index:  [2 5]\ntrain_index:  [2 0 5 1] test_index:  [4 3]\ntrain_index:  [5 0 3 1] test_index:  [2 4]\n"
     ]
    }
   ],
   "source": [
    "import numpy as np\n",
    "from sklearn.model_selection import ShuffleSplit\n",
    "\n",
    "data = np.array([[1, 2], [3, 4], [5, 6], [7, 8], [9, 10], [11, 12]])\n",
    "target = np.array([1, 2, 3, 4, 5, 6])\n",
    "\n",
    "ss = ShuffleSplit(n_splits=3\n",
    "                  , test_size=1/3\n",
    "                  , train_size=2/3)\n",
    "\n",
    "ss.get_n_splits()\n",
    "\n",
    "for train_index, test_index in ss.split(data):\n",
    "    print(\"train_index: \", train_index, \"test_index: \", test_index)\n"
   ]
  },
  {
   "cell_type": "markdown",
   "metadata": {},
   "source": [
    "## 超参数优化方法"
   ]
  },
  {
   "cell_type": "code",
   "execution_count": 3,
   "metadata": {
    "collapsed": false
   },
   "outputs": [
    {
     "data": {
      "text/plain": [
       "0.81144781144781142"
      ]
     },
     "execution_count": 3,
     "metadata": {},
     "output_type": "execute_result"
    }
   ],
   "source": [
    "import numpy as np\n",
    "import pandas as pd\n",
    "from time import time\n",
    "from scipy.stats import randint as hp_randint\n",
    "from sklearn.model_selection import train_test_split\n",
    "from sklearn.model_selection import RandomizedSearchCV\n",
    "from sklearn.datasets import load_digits\n",
    "from sklearn.ensemble import RandomForestClassifier\n",
    "from sklearn.metrics import accuracy_score\n",
    "\n",
    "\n",
    "def report(results, n_top=3):\n",
    "    results = pd.DataFrame(clf.cv_results_).sort_values(by = ['rank_test_score']).head(n_top)\n",
    "    results = results.loc[:, ['rank_test_score', 'std_test_score', 'mean_test_score', 'params']].reset_index()\n",
    "    print(results.T)\n",
    "\n",
    "\n",
    "\n",
    "data, target = load_digits(return_X_y=True)\n",
    "\n",
    "rf = RandomForestClassifier()\n",
    "\n",
    "pararmeters = {\n",
    "    'criterion':[\"gini\", \"entropy\"],\n",
    "    'max_features':hp_randint(1, 10), # 1~10 均匀分布 \n",
    "    'max_depth':hp_randint(1, 4)  # 1~4 均匀分布 \n",
    "}\n",
    "\n",
    "\n",
    "data_train, data_test, target_train, target_test = train_test_split(data, \n",
    "                                                                    target, \n",
    "                                                                    test_size=0.33, \n",
    "                                                                    random_state=42)\n",
    "\n",
    "clf = RandomizedSearchCV(rf,\n",
    "                         pararmeters,\n",
    "                         n_iter=10,\n",
    "                         n_jobs=4)\n",
    "\n",
    "# Call predict on the estimator with the best found parameters.\n",
    "clf.fit(data_train, target_train)\n",
    "clf.predict(data_test)\n",
    "\n",
    "accuracy_score(target_test, clf.predict(data_test))\n",
    "\n"
   ]
  },
  {
   "cell_type": "markdown",
   "metadata": {},
   "source": [
    "## 模型验证方法"
   ]
  },
  {
   "cell_type": "markdown",
   "metadata": {},
   "source": [
    "### 对每个输入点（一个超参数每个取值）产生交叉验证计算指标"
   ]
  },
  {
   "cell_type": "code",
   "execution_count": 3,
   "metadata": {
    "collapsed": false
   },
   "outputs": [
    {
     "name": "stdout",
     "output_type": "stream",
     "text": [
      "1 [ 0.1013289   0.10183639  0.26342282]\n"
     ]
    },
    {
     "name": "stdout",
     "output_type": "stream",
     "text": [
      "2 [ 0.1013289   0.10183639  0.26342282]\n"
     ]
    },
    {
     "name": "stdout",
     "output_type": "stream",
     "text": [
      "3 [ 0.1013289   0.10183639  0.26342282]\n"
     ]
    },
    {
     "name": "stdout",
     "output_type": "stream",
     "text": [
      "4 [ 0.1013289   0.10183639  0.26342282]\n"
     ]
    },
    {
     "name": "stdout",
     "output_type": "stream",
     "text": [
      "5 [ 0.1013289   0.10183639  0.26342282]\n"
     ]
    },
    {
     "name": "stdout",
     "output_type": "stream",
     "text": [
      "6 [ 0.71594684  0.7245409   0.7147651 ]\n"
     ]
    },
    {
     "name": "stdout",
     "output_type": "stream",
     "text": [
      "7 [ 0.93355482  0.94824708  0.91778523]\n"
     ]
    },
    {
     "name": "stdout",
     "output_type": "stream",
     "text": [
      "8 [ 0.94518272  0.96994992  0.93959732]\n"
     ]
    },
    {
     "name": "stdout",
     "output_type": "stream",
     "text": [
      "9 [ 0.93521595  0.95826377  0.93791946]\n"
     ]
    },
    {
     "name": "stdout",
     "output_type": "stream",
     "text": [
      "10 [ 0.93521595  0.95826377  0.93791946]\n"
     ]
    }
   ],
   "source": [
    "import numpy as np\n",
    "from sklearn.datasets import load_digits\n",
    "from sklearn.model_selection import cross_val_score\n",
    "from sklearn.svm import SVC\n",
    "\n",
    "data, target = load_digits(return_X_y=True)\n",
    "\n",
    "# np.logspace(-10, -1, 10) 10^-10, -10^-9, -10^-8, -10^-7, -10^-6, -10^-5, -10^-4, -10^-3, -10^-2, -10^-1\n",
    "for i, c in enumerate(np.logspace(-10, -1, 10), start=1):\n",
    "    clf = SVC(C=c, kernel='linear')\n",
    "    # 默认是 3 折 StratifiedKFold \n",
    "    print(i, cross_val_score(clf, data, target, n_jobs=4))"
   ]
  },
  {
   "cell_type": "markdown",
   "metadata": {},
   "source": [
    "### 对每个输入点（一个超参数每个取值）产生交叉验证预测结果"
   ]
  },
  {
   "cell_type": "code",
   "execution_count": null,
   "metadata": {
    "collapsed": false
   },
   "outputs": [],
   "source": [
    "import numpy as np\n",
    "import pandas as pd\n",
    "from sklearn.datasets import load_digits\n",
    "from sklearn.svm import SVC\n",
    "from sklearn.model_selection import cross_val_predict\n",
    "\n",
    "data, target = load_digits(return_X_y=True)\n",
    "\n",
    "for i, c in enumerate(np.logspace(-10, -1, 10), start=1):\n",
    "    clf = SVC(C=c, kernel='linear')\n",
    "    # 类似前面 cross_val_score() 通过交叉验证得到 estimator（所选择模型 + 参数）在数据集 X，y 上通过 cv 得到的 scoring 指标，这里不是得到指标而是输出预测的 y_label。\n",
    "    # 用 3 折交叉验证举例，\n",
    "    # 用 1、2 两部分数据 train 预测 3 部分数据、\n",
    "    # 用 1、3 两部分数据 train 预测 2 部分数据、\n",
    "    # 用 2、3 两部分数据 train 预测 1 部分数据，最终将三部分预测结果拼接起来返回\n",
    "    print(i, cross_val_predict(clf, data, target, n_jobs=4))\n"
   ]
  },
  {
   "cell_type": "markdown",
   "metadata": {
    "collapsed": false
   },
   "source": [
    "### 计算并绘制模型的验证曲线"
   ]
  },
  {
   "cell_type": "code",
   "execution_count": 4,
   "metadata": {
    "collapsed": false
   },
   "outputs": [
    {
     "name": "stdout",
     "output_type": "stream",
     "text": [
      "[[ 0.10209205  0.10183639  0.28726062]\n [ 0.10209205  0.10183639  0.28726062]\n [ 0.10209205  0.10183639  0.28726062]\n [ 0.10209205  0.10183639  0.28726062]\n [ 0.10209205  0.10183639  0.28726062]\n [ 0.73138075  0.73539232  0.74771024]\n [ 0.96401674  0.95993322  0.97502082]\n [ 0.98995816  0.99081803  0.99500416]\n [ 0.99832636  1.          1.        ]\n [ 1.          1.          1.        ]]\n------------------------------------------------\n[[ 0.1013289   0.10183639  0.26342282]\n [ 0.1013289   0.10183639  0.26342282]\n [ 0.1013289   0.10183639  0.26342282]\n [ 0.1013289   0.10183639  0.26342282]\n [ 0.1013289   0.10183639  0.26342282]\n [ 0.71594684  0.7245409   0.7147651 ]\n [ 0.93355482  0.94824708  0.91778523]\n [ 0.94518272  0.96994992  0.93959732]\n [ 0.93521595  0.95826377  0.93791946]\n [ 0.93521595  0.95826377  0.93791946]]\n"
     ]
    }
   ],
   "source": [
    "import matplotlib.pyplot as plt\n",
    "import numpy as np\n",
    "from sklearn.datasets import load_digits\n",
    "from sklearn.svm import SVC\n",
    "from sklearn.model_selection import validation_curve\n",
    "\n",
    "digits = load_digits()\n",
    "data, target = digits.data, digits.target\n",
    "\n",
    "param_range = np.logspace(-10, -1, 10)\n",
    "train_scores, test_scores = validation_curve(\\\n",
    "    SVC(kernel='linear'), data, target, param_name='C', \\\n",
    "    param_range=param_range, cv=3, scoring='accuracy', n_jobs=-1)\n",
    "\n",
    "print(train_scores)\n",
    "print('------------------------------------------------')\n",
    "print(test_scores)"
   ]
  },
  {
   "cell_type": "markdown",
   "metadata": {},
   "source": [
    "### 计算并绘制学习率曲线"
   ]
  },
  {
   "cell_type": "code",
   "execution_count": 34,
   "metadata": {
    "collapsed": true
   },
   "outputs": [
    {
     "name": "stdout",
     "output_type": "stream",
     "text": [
      "train_sizes:  [ 9 32 54 76 99]\ntrain_scores: \n[[ 0.55555556  0.88888889  0.88888889]\n [ 0.46875     0.40625     0.40625   ]\n [ 0.35185185  0.35185185  0.74074074]\n [ 0.63157895  0.61842105  0.39473684]\n [ 0.92929293  0.8989899   0.34343434]]\ntest_scores: \n[[ 0.33333333  0.66666667  0.66666667]\n [ 0.33333333  0.33333333  0.33333333]\n [ 0.33333333  0.33333333  0.66666667]\n [ 0.64705882  0.60784314  0.33333333]\n [ 0.8627451   0.92156863  0.33333333]]\n"
     ]
    }
   ],
   "source": [
    "import numpy as np\n",
    "import pandas as pd\n",
    "from sklearn.svm import SVC\n",
    "from sklearn.datasets import load_digits\n",
    "from sklearn.datasets import load_iris\n",
    "from sklearn.model_selection import learning_curve\n",
    "from sklearn.model_selection import StratifiedKFold\n",
    "\n",
    "# digits = load_digits()\n",
    "# data, target = digits.data, digits.target\n",
    "\n",
    "# 之前使用 iris 数据集调用 learning_curve() 函数的时候会报错\n",
    "# 原因在于 learning_curve() 函数train_sizes=np.linspace(0.1, 1.0, 5) 前 0.1 等训练样本 target 都是相同的\n",
    "# 所以会报 ValueError: The number of classes has to be greater than one\n",
    "iris = load_iris()\n",
    "data, target = iris.data, iris.target\n",
    "data_target = pd.concat([pd.DataFrame(data, columns=iris.feature_names), pd.DataFrame(target, columns=['target'])], axis=1)\n",
    "\n",
    "# 数据集乱序 \n",
    "# .sample(frac=1) 抽样全部样本相当于乱序 \n",
    "# .reset_index(drop=True) 删掉由于 reset_index 产生的一个新 index 列\n",
    "data_target = data_target.sample(frac=1).reset_index(drop=True)\n",
    "\n",
    "\n",
    "svc = SVC(gamma=0.001)\n",
    "\n",
    "# sfk = StratifiedKFold(n_splits=3, shuffle=True)\n",
    "# for train_index, test_index in sfk.split(data, target):\n",
    "#     print(\"train_index shape: \", train_index.shape) \n",
    "#     print(\"test_index shape: \", test_index.shape)\n",
    "#     print(\"------------------------------------------\")\n",
    "# >>>train_index shape:  (99,)\n",
    "# >>>test_index shape:  (51,)\n",
    "# >>>------------------------------------------\n",
    "# >>>train_index shape:  (99,)\n",
    "# >>>test_index shape:  (51,)\n",
    "# >>>------------------------------------------\n",
    "# >>>train_index shape:  (102,)\n",
    "# >>>test_index shape:  (48,)\n",
    "# >>>------------------------------------------\n",
    "# train_sizes has been interpreted as absolute numbers of training samples and must be within (0, 99], but is within [20, 100]\n",
    "# cv = StratifiedKFold(n_splits=3, random_state=0)\n",
    "# estimator = SVC(gamma=0.001)\n",
    "# 注意下面程序会报错 , learning_curve() 默认使用了上面 cv 形式的 StratifiedKFold , 理论上 train set 100 样本 test set 50 样本\n",
    "# 但是鉴于是分层抽样 , 会使得 train set test set 数量非绝对的 100、50 此时指定 train_sizes=[20, 40, 60, 80, 100] 会产生问题 , 故直接使用默认即可\n",
    "train_sizes, train_scores, test_scores = learning_curve(estimator=svc, \n",
    "                                                        X=data_target.loc[:, iris.feature_names], \n",
    "                                                        y=data_target.loc[:, 'target'], \n",
    "                                                        n_jobs=-1)\n",
    "\n",
    "print('train_sizes: ', train_sizes)\n",
    "print('train_scores: ')\n",
    "print(train_scores)\n",
    "print('test_scores: ')\n",
    "print(test_scores)"
   ]
  },
  {
   "cell_type": "code",
   "execution_count": 30,
   "metadata": {},
   "outputs": [
    {
     "data": {
      "text/html": [
       "<div>\n",
       "<style>\n",
       "    .dataframe thead tr:only-child th {\n",
       "        text-align: right;\n",
       "    }\n",
       "\n",
       "    .dataframe thead th {\n",
       "        text-align: left;\n",
       "    }\n",
       "\n",
       "    .dataframe tbody tr th {\n",
       "        vertical-align: top;\n",
       "    }\n",
       "</style>\n",
       "<table border=\"1\" class=\"dataframe\">\n",
       "  <thead>\n",
       "    <tr style=\"text-align: right;\">\n",
       "      <th></th>\n",
       "      <th>sepal length (cm)</th>\n",
       "      <th>sepal width (cm)</th>\n",
       "      <th>petal length (cm)</th>\n",
       "      <th>petal width (cm)</th>\n",
       "      <th>target</th>\n",
       "    </tr>\n",
       "  </thead>\n",
       "  <tbody>\n",
       "    <tr>\n",
       "      <th>0</th>\n",
       "      <td>5.1</td>\n",
       "      <td>3.5</td>\n",
       "      <td>1.4</td>\n",
       "      <td>0.2</td>\n",
       "      <td>0</td>\n",
       "    </tr>\n",
       "    <tr>\n",
       "      <th>1</th>\n",
       "      <td>4.9</td>\n",
       "      <td>3.0</td>\n",
       "      <td>1.4</td>\n",
       "      <td>0.2</td>\n",
       "      <td>0</td>\n",
       "    </tr>\n",
       "    <tr>\n",
       "      <th>2</th>\n",
       "      <td>4.7</td>\n",
       "      <td>3.2</td>\n",
       "      <td>1.3</td>\n",
       "      <td>0.2</td>\n",
       "      <td>0</td>\n",
       "    </tr>\n",
       "    <tr>\n",
       "      <th>3</th>\n",
       "      <td>4.6</td>\n",
       "      <td>3.1</td>\n",
       "      <td>1.5</td>\n",
       "      <td>0.2</td>\n",
       "      <td>0</td>\n",
       "    </tr>\n",
       "    <tr>\n",
       "      <th>4</th>\n",
       "      <td>5.0</td>\n",
       "      <td>3.6</td>\n",
       "      <td>1.4</td>\n",
       "      <td>0.2</td>\n",
       "      <td>0</td>\n",
       "    </tr>\n",
       "  </tbody>\n",
       "</table>\n",
       "</div>"
      ],
      "text/plain": [
       "<div>\n",
       "<style>\n",
       "    .dataframe thead tr:only-child th {\n",
       "        text-align: right;\n",
       "    }\n",
       "\n",
       "    .dataframe thead th {\n",
       "        text-align: left;\n",
       "    }\n",
       "\n",
       "    .dataframe tbody tr th {\n",
       "        vertical-align: top;\n",
       "    }\n",
       "</style>\n",
       "<table border=\"1\" class=\"dataframe\">\n",
       "  <thead>\n",
       "    <tr style=\"text-align: right;\">\n",
       "      <th></th>\n",
       "      <th>sepal length (cm)</th>\n",
       "      <th>sepal width (cm)</th>\n",
       "      <th>petal length (cm)</th>\n",
       "      <th>petal width (cm)</th>\n",
       "      <th>target</th>\n",
       "    </tr>\n",
       "  </thead>\n",
       "  <tbody>\n",
       "    <tr>\n",
       "      <th>0</th>\n",
       "      <td>5.1</td>\n",
       "      <td>3.5</td>\n",
       "      <td>1.4</td>\n",
       "      <td>0.2</td>\n",
       "      <td>0</td>\n",
       "    </tr>\n",
       "    <tr>\n",
       "      <th>1</th>\n",
       "      <td>4.9</td>\n",
       "      <td>3.0</td>\n",
       "      <td>1.4</td>\n",
       "      <td>0.2</td>\n",
       "      <td>0</td>\n",
       "    </tr>\n",
       "    <tr>\n",
       "      <th>2</th>\n",
       "      <td>4.7</td>\n",
       "      <td>3.2</td>\n",
       "      <td>1.3</td>\n",
       "      <td>0.2</td>\n",
       "      <td>0</td>\n",
       "    </tr>\n",
       "    <tr>\n",
       "      <th>3</th>\n",
       "      <td>4.6</td>\n",
       "      <td>3.1</td>\n",
       "      <td>1.5</td>\n",
       "      <td>0.2</td>\n",
       "      <td>0</td>\n",
       "    </tr>\n",
       "    <tr>\n",
       "      <th>4</th>\n",
       "      <td>5.0</td>\n",
       "      <td>3.6</td>\n",
       "      <td>1.4</td>\n",
       "      <td>0.2</td>\n",
       "      <td>0</td>\n",
       "    </tr>\n",
       "  </tbody>\n",
       "</table>\n",
       "</div>"
      ]
     },
     "execution_count": 30,
     "metadata": {},
     "output_type": "execute_result"
    }
   ],
   "source": [
    "\n",
    "\n"
   ]
  },
  {
   "cell_type": "code",
   "execution_count": null,
   "metadata": {},
   "outputs": [],
   "source": []
  }
 ],
 "metadata": {
  "kernelspec": {
   "display_name": "Python 2",
   "language": "python",
   "name": "python2"
  },
  "language_info": {
   "codemirror_mode": {
    "name": "ipython",
    "version": 2
   },
   "file_extension": ".py",
   "mimetype": "text/x-python",
   "name": "python",
   "nbconvert_exporter": "python",
   "pygments_lexer": "ipython2",
   "version": "2.7.6"
  }
 },
 "nbformat": 4,
 "nbformat_minor": 0
}
