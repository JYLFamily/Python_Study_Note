{
 "cells": [
  {
   "cell_type": "code",
   "execution_count": 86,
   "metadata": {
    "collapsed": true
   },
   "outputs": [],
   "source": [
    "import numpy as np\n",
    "import pandas as pd\n",
    "from sklearn.datasets import load_iris\n",
    "from sklearn.pipeline import FeatureUnion\n",
    "from sklearn.pipeline import Pipeline\n",
    "from sklearn.decomposition import PCA\n",
    "from sklearn.decomposition import KernelPCA\n",
    "from sklearn.cluster import KMeans\n",
    "from sklearn.metrics import accuracy_score\n"
   ]
  },
  {
   "cell_type": "markdown",
   "metadata": {
    "collapsed": true
   },
   "source": [
    "## 数据准备"
   ]
  },
  {
   "cell_type": "code",
   "execution_count": 87,
   "metadata": {
    "collapsed": false
   },
   "outputs": [
    {
     "data": {
      "text/html": [
       "<div>\n",
       "<table border=\"1\" class=\"dataframe\">\n",
       "  <thead>\n",
       "    <tr style=\"text-align: right;\">\n",
       "      <th></th>\n",
       "      <th>petal length (cm)</th>\n",
       "      <th>petal width (cm)</th>\n",
       "    </tr>\n",
       "  </thead>\n",
       "  <tbody>\n",
       "    <tr>\n",
       "      <th>0</th>\n",
       "      <td>1.4</td>\n",
       "      <td>0.2</td>\n",
       "    </tr>\n",
       "    <tr>\n",
       "      <th>1</th>\n",
       "      <td>1.4</td>\n",
       "      <td>0.2</td>\n",
       "    </tr>\n",
       "    <tr>\n",
       "      <th>2</th>\n",
       "      <td>1.3</td>\n",
       "      <td>0.2</td>\n",
       "    </tr>\n",
       "    <tr>\n",
       "      <th>3</th>\n",
       "      <td>1.5</td>\n",
       "      <td>0.2</td>\n",
       "    </tr>\n",
       "    <tr>\n",
       "      <th>4</th>\n",
       "      <td>1.4</td>\n",
       "      <td>0.2</td>\n",
       "    </tr>\n",
       "  </tbody>\n",
       "</table>\n",
       "</div>"
      ],
      "text/plain": [
       "<div>\n",
       "<table border=\"1\" class=\"dataframe\">\n",
       "  <thead>\n",
       "    <tr style=\"text-align: right;\">\n",
       "      <th></th>\n",
       "      <th>petal length (cm)</th>\n",
       "      <th>petal width (cm)</th>\n",
       "    </tr>\n",
       "  </thead>\n",
       "  <tbody>\n",
       "    <tr>\n",
       "      <th>0</th>\n",
       "      <td>1.4</td>\n",
       "      <td>0.2</td>\n",
       "    </tr>\n",
       "    <tr>\n",
       "      <th>1</th>\n",
       "      <td>1.4</td>\n",
       "      <td>0.2</td>\n",
       "    </tr>\n",
       "    <tr>\n",
       "      <th>2</th>\n",
       "      <td>1.3</td>\n",
       "      <td>0.2</td>\n",
       "    </tr>\n",
       "    <tr>\n",
       "      <th>3</th>\n",
       "      <td>1.5</td>\n",
       "      <td>0.2</td>\n",
       "    </tr>\n",
       "    <tr>\n",
       "      <th>4</th>\n",
       "      <td>1.4</td>\n",
       "      <td>0.2</td>\n",
       "    </tr>\n",
       "  </tbody>\n",
       "</table>\n",
       "</div>"
      ]
     },
     "execution_count": 87,
     "metadata": {},
     "output_type": "execute_result"
    }
   ],
   "source": [
    "iris = load_iris()\n",
    "X = pd.DataFrame(iris.data, columns=iris.feature_names)\n",
    "X = X.loc[:, [\"petal length (cm)\", \"petal width (cm)\"]]\n",
    "y = pd.Series(iris.target)\n",
    "X.head()"
   ]
  },
  {
   "cell_type": "markdown",
   "metadata": {
    "collapsed": true
   },
   "source": [
    "## FeatureUnion 分别查看 linear PCA 与 kernel PCA 生成特征数\n"
   ]
  },
  {
   "cell_type": "code",
   "execution_count": 88,
   "metadata": {
    "collapsed": false
   },
   "outputs": [
    {
     "name": "stdout",
     "output_type": "stream",
     "text": [
      "linear PCA and kernel PCA (150, 130)\n------------------------------------\n"
     ]
    },
    {
     "name": "stdout",
     "output_type": "stream",
     "text": [
      "linear PCA only (150, 2)\n------------------------------------\n"
     ]
    },
    {
     "name": "stdout",
     "output_type": "stream",
     "text": [
      "kernel PCA only (150, 128)\n"
     ]
    }
   ],
   "source": [
    "fu_list = [(\"linear_pca\", PCA()), (\"kernel_pca\", KernelPCA(kernel=\"rbf\"))]\n",
    "combined = FeatureUnion(transformer_list=fu_list, n_jobs=-1)\n",
    "# 注意：combined.set_params 设置直接生效 , 不需要 combined = combined.set_params() \n",
    "print(\"linear PCA and kernel PCA\", combined.fit_transform(X).shape)\n",
    "print(\"------------------------------------\")\n",
    "print(\"linear PCA only\", combined.set_params(linear_pca=PCA(), kernel_pca=None).fit_transform(X).shape)\n",
    "print(\"------------------------------------\")\n",
    "print(\"kernel PCA only\", combined.set_params(linear_pca=None, kernel_pca=KernelPCA(kernel=\"rbf\")).fit_transform(X).shape)\n"
   ]
  },
  {
   "cell_type": "markdown",
   "metadata": {
    "collapsed": true
   },
   "source": [
    "## FeatureUnion 嵌入 Pipeline 只选择 kernel PCA"
   ]
  },
  {
   "cell_type": "code",
   "execution_count": null,
   "metadata": {
    "collapsed": false
   },
   "outputs": [],
   "source": [
    "combined.set_params(linear_pca=None, kernel_pca=KernelPCA(kernel=\"rbf\"))\n",
    "\n",
    "pl_list = [(\"combined\", combined), (\"KMeans\", KMeans(n_clusters=3))]\n",
    "pipe = Pipeline(pl_list)\n",
    "\n",
    "pd.DataFrame(data={\"y^\":pipe.fit_predict(X), \"y\":y}).to_csv(\"Sklearn/FeatureUnion/kernel_pca.csv\", \n",
    "                                                            index= False)"
   ]
  },
  {
   "cell_type": "markdown",
   "metadata": {
    "collapsed": false
   },
   "source": [
    "## FeatureUnion 嵌入 Pipeline 只选择 linear PCA"
   ]
  },
  {
   "cell_type": "code",
   "execution_count": null,
   "metadata": {},
   "outputs": [],
   "source": [
    "combined.set_params(linear_pca=PCA(), kernel_pca=None)\n",
    "\n",
    "pl_list = [(\"combined\", combined), (\"KMeans\", KMeans(n_clusters=3))]\n",
    "pipe = Pipeline(pl_list)\n",
    "\n",
    "pd.DataFrame(data={\"y^\":pipe.fit_predict(X), \"y\":y}).to_csv(\"Sklearn/FeatureUnion/linear_pca.csv\", \n",
    "                                                            index= False)\n"
   ]
  },
  {
   "cell_type": "markdown",
   "metadata": {},
   "source": [
    "## FeatureUnion 嵌入 Pipeline 选择 kernel PCA 与 linear PCA"
   ]
  },
  {
   "cell_type": "code",
   "execution_count": null,
   "metadata": {},
   "outputs": [],
   "source": [
    "combined.set_params(linear_pca=PCA(), kernel_pca=KernelPCA(kernel=\"rbf\"))\n",
    "\n",
    "pl_list = [(\"combined\", combined), (\"KMeans\", KMeans(n_clusters=3))]\n",
    "pipe = Pipeline(pl_list)\n",
    "\n",
    "pd.DataFrame(data={\"y^\":pipe.fit_predict(X), \"y\":y}).to_csv(\"Sklearn/FeatureUnion/kernel_linear_pca.csv\", \n",
    "                                                            index= False)\n"
   ]
  },
  {
   "cell_type": "markdown",
   "metadata": {},
   "source": [
    "## 不选择 kernel PCA 与 linear PCA 直接聚类\n"
   ]
  },
  {
   "cell_type": "code",
   "execution_count": 113,
   "metadata": {},
   "outputs": [],
   "source": [
    "pd.DataFrame(data={\"y^\":KMeans(n_clusters=3).fit_predict(X), \"y\":y}).to_csv(\"Sklearn/FeatureUnion/no_pca.csv\", \n",
    "                                                                            index= False)"
   ]
  },
  {
   "cell_type": "markdown",
   "metadata": {},
   "source": [
    "## 评估聚类效果"
   ]
  },
  {
   "cell_type": "code",
   "execution_count": 114,
   "metadata": {},
   "outputs": [
    {
     "name": "stdout",
     "output_type": "stream",
     "text": [
      "linear: 0.96\nkernel: 0.946666666667\nkernel linear: 0.946666666667\nno_pca: 0.96\n"
     ]
    }
   ],
   "source": [
    "path = [\"C:/Users/YL/PycharmProjects/Python_Study_Note/Sklearn/FeatureUnion/linear_pca.csv\",\n",
    "        \"C:/Users/YL/PycharmProjects/Python_Study_Note/Sklearn/FeatureUnion/kernel_pca.csv\",\n",
    "        \"C:/Users/YL/PycharmProjects/Python_Study_Note/Sklearn/FeatureUnion/kernel_linear_pca.csv\",\n",
    "        \"C:/Users/YL/PycharmProjects/Python_Study_Note/Sklearn/FeatureUnion/no_pca.csv\"]\n",
    "\n",
    "linear = pd.read_csv(path[0])\n",
    "kernel = pd.read_csv(path[1])\n",
    "kernel_linear = pd.read_csv(path[2])\n",
    "no_pca = pd.read_csv(path[3])\n",
    "\n",
    "print(\"linear:\", accuracy_score(linear.loc[:, \"y\"], linear.loc[:, \"y^\"].replace({0:1, 1:0})))\n",
    "print(\"kernel:\", accuracy_score(kernel.loc[:, \"y\"], kernel.loc[:, \"y^\"]))\n",
    "print(\"kernel linear:\", accuracy_score(kernel_linear.loc[:, \"y\"], kernel_linear.loc[:, \"y^\"].replace({0:1, 1:0})))\n",
    "print(\"no_pca:\", accuracy_score(no_pca.loc[:, \"y\"], no_pca.loc[:, \"y^\"].replace({2:0, 0:1, 1:2})))"
   ]
  },
  {
   "cell_type": "markdown",
   "metadata": {},
   "source": [
    "## And So On"
   ]
  },
  {
   "cell_type": "code",
   "execution_count": null,
   "metadata": {},
   "outputs": [],
   "source": []
  }
 ],
 "metadata": {
  "kernelspec": {
   "display_name": "Python 2",
   "language": "python",
   "name": "python2"
  },
  "language_info": {
   "codemirror_mode": {
    "name": "ipython",
    "version": 2
   },
   "file_extension": ".py",
   "mimetype": "text/x-python",
   "name": "python",
   "nbconvert_exporter": "python",
   "pygments_lexer": "ipython2",
   "version": "2.7.6"
  }
 },
 "nbformat": 4,
 "nbformat_minor": 0
}
