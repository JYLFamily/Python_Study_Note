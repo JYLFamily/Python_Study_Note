{
 "cells": [
  {
   "cell_type": "markdown",
   "metadata": {
    "collapsed": true
   },
   "source": [
    "## Normalization"
   ]
  },
  {
   "cell_type": "code",
   "execution_count": 25,
   "metadata": {
    "collapsed": true
   },
   "outputs": [
    {
     "name": "stdout",
     "output_type": "stream",
     "text": [
      "   sepal length (cm)  sepal width (cm)  petal length (cm)  petal width (cm)\n0           0.500000          0.343137           0.137255          0.019608\n1           0.515789          0.315789           0.147368          0.021053\n2           0.500000          0.340426           0.138298          0.021277\n3           0.489362          0.329787           0.159574          0.021277\n4           0.490196          0.352941           0.137255          0.019608\n------------------------------------\n   sepal length (cm)  sepal width (cm)  petal length (cm)  petal width (cm)\n0           0.500000          0.343137           0.137255          0.019608\n1           0.515789          0.315789           0.147368          0.021053\n2           0.500000          0.340426           0.138298          0.021277\n3           0.489362          0.329787           0.159574          0.021277\n4           0.490196          0.352941           0.137255          0.019608\n------------------------------------\n   sepal length (cm)  sepal width (cm)  petal length (cm)  petal width (cm)\n0           0.500000          0.343137           0.137255          0.019608\n1           0.515789          0.315789           0.147368          0.021053\n2           0.500000          0.340426           0.138298          0.021277\n3           0.489362          0.329787           0.159574          0.021277\n4           0.490196          0.352941           0.137255          0.019608\n"
     ]
    }
   ],
   "source": [
    "import pandas as pd\n",
    "from sklearn.datasets import load_iris\n",
    "from sklearn.preprocessing import normalize\n",
    "from sklearn.preprocessing import Normalizer\n",
    "\n",
    "iris = load_iris()\n",
    "data = pd.DataFrame(iris.data, columns=iris.feature_names)\n",
    "\n",
    "# ------ toy ------\n",
    "def normalize_l1(sample):\n",
    "    \"\"\"\n",
    "    :param sample: DataFrame 的一行(axis=1) , 一个 Series\n",
    "    :return: 经过 l1 正则的样本 , 一个 Series\n",
    "    \"\"\"\n",
    "    return sample/sum(abs(sample))\n",
    "\n",
    "print(data.head().apply(normalize_l1, axis=1))  # 对每一个样本操作\n",
    "print('------------------------------------')\n",
    "\n",
    "# ------ normalize function ------\n",
    "print(pd.DataFrame(normalize(data, norm='l1'), columns=iris.feature_names).head())\n",
    "print('------------------------------------')\n",
    "\n",
    "# ------ Normalizer ------\n",
    "scaler = Normalizer(norm='l1').fit(data)\n",
    "print(pd.DataFrame(scaler.transform(data), columns=iris.feature_names).head())"
   ]
  },
  {
   "cell_type": "code",
   "execution_count": null,
   "metadata": {},
   "outputs": [],
   "source": [
    "\n",
    "\n"
   ]
  }
 ],
 "metadata": {
  "kernelspec": {
   "display_name": "Python 2",
   "language": "python",
   "name": "python2"
  },
  "language_info": {
   "codemirror_mode": {
    "name": "ipython",
    "version": 2
   },
   "file_extension": ".py",
   "mimetype": "text/x-python",
   "name": "python",
   "nbconvert_exporter": "python",
   "pygments_lexer": "ipython2",
   "version": "2.7.6"
  }
 },
 "nbformat": 4,
 "nbformat_minor": 0
}
