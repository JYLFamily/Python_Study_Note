{
 "cells": [
  {
   "cell_type": "markdown",
   "metadata": {
    "collapsed": true
   },
   "source": [
    "## Sklearn 模型预测性能的评估方法"
   ]
  },
  {
   "cell_type": "markdown",
   "metadata": {
    "collapsed": true
   },
   "source": [
    "### Estimator 对象的 score 方法"
   ]
  },
  {
   "cell_type": "markdown",
   "metadata": {},
   "source": [
    "### 交叉验证中使用 scoring 参数"
   ]
  },
  {
   "cell_type": "markdown",
   "metadata": {},
   "source": [
    "#### 交叉验证中使用预定义参数\n"
   ]
  },
  {
   "cell_type": "code",
   "execution_count": 23,
   "metadata": {
    "collapsed": true
   },
   "outputs": [
    {
     "name": "stdout",
     "output_type": "stream",
     "text": [
      "<class 'numpy.int32'>\n"
     ]
    },
    {
     "name": "stdout",
     "output_type": "stream",
     "text": [
      "0.0\n"
     ]
    },
    {
     "name": "stdout",
     "output_type": "stream",
     "text": [
      "0.12468043656\n"
     ]
    },
    {
     "name": "stdout",
     "output_type": "stream",
     "text": [
      "0.236773870912\n"
     ]
    },
    {
     "name": "stdout",
     "output_type": "stream",
     "text": [
      "0.287496296433\n"
     ]
    },
    {
     "name": "stdout",
     "output_type": "stream",
     "text": [
      "0.33091287308\n"
     ]
    },
    {
     "name": "stdout",
     "output_type": "stream",
     "text": [
      "0.378333917719\n"
     ]
    },
    {
     "name": "stdout",
     "output_type": "stream",
     "text": [
      "0.364796338985\n"
     ]
    },
    {
     "name": "stdout",
     "output_type": "stream",
     "text": [
      "0.411355438258\n"
     ]
    },
    {
     "name": "stdout",
     "output_type": "stream",
     "text": [
      "0.45589648797\n"
     ]
    },
    {
     "name": "stdout",
     "output_type": "stream",
     "text": [
      "0.470657404921\n"
     ]
    },
    {
     "name": "stdout",
     "output_type": "stream",
     "text": [
      "0.481350033594\n"
     ]
    },
    {
     "name": "stdout",
     "output_type": "stream",
     "text": [
      "0.498253970154\n"
     ]
    },
    {
     "name": "stdout",
     "output_type": "stream",
     "text": [
      "0.545996730526\n"
     ]
    },
    {
     "name": "stdout",
     "output_type": "stream",
     "text": [
      "0.550833412492\n"
     ]
    },
    {
     "name": "stdout",
     "output_type": "stream",
     "text": [
      "0.55853611869\n"
     ]
    },
    {
     "name": "stdout",
     "output_type": "stream",
     "text": [
      "0.569085060084\n"
     ]
    },
    {
     "name": "stdout",
     "output_type": "stream",
     "text": [
      "0.548579909339\n"
     ]
    },
    {
     "name": "stdout",
     "output_type": "stream",
     "text": [
      "0.572941542773\n"
     ]
    },
    {
     "name": "stdout",
     "output_type": "stream",
     "text": [
      "0.604602192358\n"
     ]
    },
    {
     "name": "stdout",
     "output_type": "stream",
     "text": [
      "0.570767223669\n"
     ]
    }
   ],
   "source": [
    "import numpy as np\n",
    "from sklearn.datasets import load_digits\n",
    "from sklearn.cluster import KMeans\n",
    "from sklearn.model_selection import cross_val_score\n",
    "from sklearn.preprocessing import StandardScaler\n",
    "\n",
    "digits = load_digits()\n",
    "data, target = digits.data, digits.target\n",
    "scaler = StandardScaler().fit(data)\n",
    "data = scaler.transform(data)\n",
    "\n",
    "for k in np.linspace(1, 20, 20, dtype=int):\n",
    "    # 虽然 Python 不要求数据类型 , 但是对于 n_clusters 还是要指定 dtype = int \n",
    "    kmeans = KMeans(n_clusters=k)\n",
    "    # 聚类使用交叉验证没有意义 , \n",
    "    print(cross_val_score(kmeans, data, target, n_jobs=-1, scoring='adjusted_rand_score').mean())"
   ]
  },
  {
   "cell_type": "markdown",
   "metadata": {},
   "source": [
    "#### 交叉验证中使用自定义参数 \n",
    "把 sklearn.metric 中已有的度量指标封装成符合 \"scoring\" 参数要求的形式"
   ]
  },
  {
   "cell_type": "markdown",
   "metadata": {},
   "source": [
    "##### 交叉验证中使用自定义参数 \n",
    "完全自定义自己的度量指标然后用 \"make_scorer\" 函数转换成符合 \"scoring\" 参数要求的形式"
   ]
  },
  {
   "cell_type": "code",
   "execution_count": 7,
   "metadata": {
    "collapsed": true
   },
   "outputs": [
    {
     "data": {
      "text/plain": [
       "{'mean_fit_time': array([ 0.00066749,  0.00066845]),\n 'mean_score_time': array([ 0.00033625,  0.00066845]),\n 'mean_test_score': array([-1., -1.]),\n 'mean_train_score': array([-1., -1.]),\n 'param_C': masked_array(data = [1 10],\n              mask = [False False],\n        fill_value = ?),\n 'params': ({'C': 1}, {'C': 10}),\n 'rank_test_score': array([1, 1]),\n 'split0_test_score': array([-1., -1.]),\n 'split0_train_score': array([-1., -1.]),\n 'split1_test_score': array([-1., -1.]),\n 'split1_train_score': array([-1., -1.]),\n 'split2_test_score': array([-1., -1.]),\n 'split2_train_score': array([-1., -1.]),\n 'std_fit_time': array([ 0.00047199,  0.00047266]),\n 'std_score_time': array([ 0.00047553,  0.00047266]),\n 'std_test_score': array([ 0.,  0.]),\n 'std_train_score': array([ 0.,  0.])}"
      ]
     },
     "execution_count": 7,
     "metadata": {},
     "output_type": "execute_result"
    }
   ],
   "source": [
    "import numpy as np\n",
    "from sklearn.datasets import load_iris\n",
    "from sklearn.svm import SVC\n",
    "from sklearn.metrics import make_scorer\n",
    "from sklearn.model_selection import GridSearchCV\n",
    "from sklearn.metrics import accuracy_score\n",
    "\n",
    "\n",
    "# 这里随便定义了一个损失函数 , 自己定义损失函数还需要学习\n",
    "def my_custom_lossfunc(ground_truth, predictions):\n",
    "     if accuracy_score(ground_truth, predictions) > 0:\n",
    "         return 1\n",
    "     else:\n",
    "         return 0\n",
    "\n",
    "iris = load_iris()\n",
    "loss = make_scorer(my_custom_lossfunc, greater_is_better=False)\n",
    "\n",
    "grid = GridSearchCV(SVC(), param_grid={'C': [1, 10]}, scoring=loss)\n",
    "grid.fit(iris.data, iris.target)\n",
    "grid.cv_results_"
   ]
  },
  {
   "cell_type": "code",
   "execution_count": null,
   "metadata": {},
   "outputs": [],
   "source": []
  }
 ],
 "metadata": {
  "kernelspec": {
   "display_name": "Python 2",
   "language": "python",
   "name": "python2"
  },
  "language_info": {
   "codemirror_mode": {
    "name": "ipython",
    "version": 2
   },
   "file_extension": ".py",
   "mimetype": "text/x-python",
   "name": "python",
   "nbconvert_exporter": "python",
   "pygments_lexer": "ipython2",
   "version": "2.7.6"
  }
 },
 "nbformat": 4,
 "nbformat_minor": 0
}
