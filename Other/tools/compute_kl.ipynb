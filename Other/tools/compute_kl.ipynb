{
 "cells": [
  {
   "cell_type": "code",
   "execution_count": 2,
   "metadata": {
    "collapsed": true
   },
   "outputs": [],
   "source": [
    "import numpy as np\n",
    "\n",
    "\n",
    "def compute_kl(p_list, q_list):\n",
    "    kl = 0\n",
    "    for p, q in zip(p_list, q_list):\n",
    "        \n",
    "        temp = 0\n",
    "        \n",
    "        if p == 0 and q == 0:\n",
    "            temp = 0\n",
    "        elif p == 0 and q != 0:\n",
    "            temp = 0\n",
    "        elif p != 0 and q == 0:\n",
    "            temp = 10\n",
    "        else:\n",
    "            temp = p * np.log(p / q)\n",
    "        \n",
    "        kl += temp\n",
    "        \n",
    "    return kl"
   ]
  },
  {
   "cell_type": "code",
   "execution_count": 3,
   "metadata": {},
   "outputs": [
    {
     "data": {
      "text/plain": [
       "9.9858168162216767"
      ]
     },
     "execution_count": 3,
     "metadata": {},
     "output_type": "execute_result"
    }
   ],
   "source": [
    "compute_kl([0.985714286, 0, 0, 0, 0, 0, 0, 0, 0.014285714, 0], [1, 0, 0, 0, 0, 0, 0, 0, 0, 0])"
   ]
  },
  {
   "cell_type": "code",
   "execution_count": null,
   "metadata": {},
   "outputs": [],
   "source": []
  }
 ],
 "metadata": {
  "kernelspec": {
   "display_name": "Python 2",
   "language": "python",
   "name": "python2"
  },
  "language_info": {
   "codemirror_mode": {
    "name": "ipython",
    "version": 2
   },
   "file_extension": ".py",
   "mimetype": "text/x-python",
   "name": "python",
   "nbconvert_exporter": "python",
   "pygments_lexer": "ipython2",
   "version": "2.7.6"
  }
 },
 "nbformat": 4,
 "nbformat_minor": 0
}
