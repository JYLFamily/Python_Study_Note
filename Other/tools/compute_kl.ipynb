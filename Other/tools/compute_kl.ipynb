{
 "cells": [
  {
   "cell_type": "code",
   "execution_count": 2,
   "metadata": {
    "collapsed": true
   },
   "outputs": [],
   "source": [
    "import numpy as np\n",
    "\n",
    "\n",
    "def compute_kl(p_list, q_list):\n",
    "    kl = 0\n",
    "    for p, q in zip(p_list, q_list):\n",
    "        \n",
    "        temp = 0\n",
    "        \n",
    "        if p == 0 and q == 0:\n",
    "            temp = 0\n",
    "        elif p == 0 and q != 0:\n",
    "            temp = 0\n",
    "        elif p != 0 and q == 0:\n",
    "            temp = 10\n",
    "        else:\n",
    "            temp = p * np.log(p / q)\n",
    "        \n",
    "        kl += temp\n",
    "        \n",
    "    return kl"
   ]
  },
  {
   "cell_type": "code",
   "execution_count": 3,
   "metadata": {},
   "outputs": [
    {
     "data": {
      "text/plain": [
       "9.9858168162216767"
      ]
     },
     "execution_count": 3,
     "metadata": {},
     "output_type": "execute_result"
    }
   ],
   "source": [
    "compute_kl([0.985714286, 0, 0, 0, 0, 0, 0, 0, 0.014285714, 0], [1, 0, 0, 0, 0, 0, 0, 0, 0, 0])"
   ]
  },
  {
   "cell_type": "code",
   "execution_count": null,
   "metadata": {},
   "outputs": [],
   "source": [
    "import pandas as pd\n",
    "\n",
    "def calc_touch_due_rate(t):\n",
    "    month = [1, 2, 3, 4, 5]\n",
    "    apply = [117019, 97762, 424710, 439114, 560284]\n",
    "    pay = [5131, 5309, 9925, 15453, 28921]\n",
    "    output_label_count_thirteenth = pd.read_csv(\"C:\\\\Users\\\\Dell\\\\Desktop\\\\output_label_count_three\",\n",
    "                                                sep=\"\\t\", header=None)\n",
    "    output_label_count_thirteenth = pd.concat([output_label_count_thirteenth.loc[:, 0].map(lambda x: str(x)[8]),\n",
    "                                               output_label_count_thirteenth], axis=1)\n",
    "    output_label_count_thirteenth.columns = [0, 1, 2, 3, 4]\n",
    "    for i, j, k in zip(month, apply, pay):\n",
    "        temp = output_label_count_thirteenth.loc[(output_label_count_thirteenth[0] == str(i)), :]\n",
    "        print(\"进件触碰率： \" + str(temp.loc[(temp[4] >= t), :].shape[0]/float(j)))\n",
    "        print(\"放款件触碰率：\" + str(temp.loc[(temp[3] != -1) & (temp[4] >= t), :].shape[0]/float(k)))\n",
    "        print(\"触碰逾期率：\" + str(temp.loc[(temp[3] != -1) & (temp[3] == 1) & (temp[4] >= t), :].shape[0]/\n",
    "                             float(temp.loc[(temp[3] != -1) & (temp[4] >= t), :].shape[0])))\n",
    "        print()"
   ]
  },
  {
   "cell_type": "code",
   "execution_count": 85,
   "metadata": {
    "collapsed": false
   },
   "outputs": [
    {
     "name": "stdout",
     "output_type": "stream",
     "text": [
      "进件触碰率： 0.013211529751578804\n放款件触碰率：0.013252777236406159\n触碰逾期率：0.1323529411764706\n\n进件触碰率： 0.013052106135308198\n放款件触碰率：0.014503673008099453\n触碰逾期率：0.15584415584415584\n\n进件触碰率： 0.027293918203009113\n放款件触碰率：0.020151133501259445\n触碰逾期率：0.19\n\n进件触碰率： 0.004572844409424432\n放款件触碰率：0.0023296447291788003\n触碰逾期率：0.05555555555555555\n\n进件触碰率： 0.010041336179508963\n放款件触碰率：0.003492272051450503\n触碰逾期率：0.039603960396039604\n\n"
     ]
    }
   ],
   "source": [
    "calc_touch_due_rate(2)"
   ]
  },
  {
   "cell_type": "code",
   "execution_count": null,
   "metadata": {},
   "outputs": [],
   "source": [
    ""
   ]
  }
 ],
 "metadata": {
  "kernelspec": {
   "display_name": "Python 2",
   "language": "python",
   "name": "python2"
  },
  "language_info": {
   "codemirror_mode": {
    "name": "ipython",
    "version": 2
   },
   "file_extension": ".py",
   "mimetype": "text/x-python",
   "name": "python",
   "nbconvert_exporter": "python",
   "pygments_lexer": "ipython2",
   "version": "2.7.6"
  }
 },
 "nbformat": 4,
 "nbformat_minor": 0
}
